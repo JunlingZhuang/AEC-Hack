{
 "cells": [
  {
   "cell_type": "code",
   "execution_count": 1,
   "metadata": {},
   "outputs": [
    {
     "name": "stderr",
     "output_type": "stream",
     "text": [
      "c:\\Users\\guane\\miniconda3\\envs\\AEChackthon\\Lib\\site-packages\\tqdm\\auto.py:21: TqdmWarning: IProgress not found. Please update jupyter and ipywidgets. See https://ipywidgets.readthedocs.io/en/stable/user_install.html\n",
      "  from .autonotebook import tqdm as notebook_tqdm\n"
     ]
    },
    {
     "name": "stdout",
     "output_type": "stream",
     "text": [
      "Running on local URL:  http://127.0.0.1:7860\n",
      "Running on public URL: https://c840b6cb155ba71d6f.gradio.live\n",
      "\n",
      "This share link expires in 72 hours. For free permanent hosting and GPU upgrades, run `gradio deploy` from Terminal to deploy to Spaces (https://huggingface.co/spaces)\n"
     ]
    },
    {
     "data": {
      "text/html": [
       "<div><iframe src=\"https://c840b6cb155ba71d6f.gradio.live\" width=\"100%\" height=\"500\" allow=\"autoplay; camera; microphone; clipboard-read; clipboard-write;\" frameborder=\"0\" allowfullscreen></iframe></div>"
      ],
      "text/plain": [
       "<IPython.core.display.HTML object>"
      ]
     },
     "metadata": {},
     "output_type": "display_data"
    }
   ],
   "source": [
    "import gradio as gr\n",
    "\n",
    "def greet(name):\n",
    "    return \"Hello \" + name + \"!\"\n",
    "\n",
    "demo = gr.Interface(fn=greet, inputs=\"text\", outputs=\"text\")\n",
    "    \n",
    "if __name__ == \"__main__\":\n",
    "    # demo.launch(show_api=True) \n",
    "    demo.launch(share=True)\n"
   ]
  },
  {
   "cell_type": "code",
   "execution_count": 6,
   "metadata": {},
   "outputs": [
    {
     "name": "stdout",
     "output_type": "stream",
     "text": [
      "Running on local URL:  http://127.0.0.1:7863\n",
      "\n",
      "To create a public link, set `share=True` in `launch()`.\n"
     ]
    },
    {
     "data": {
      "text/html": [
       "<div><iframe src=\"http://127.0.0.1:7863/\" width=\"100%\" height=\"500\" allow=\"autoplay; camera; microphone; clipboard-read; clipboard-write;\" frameborder=\"0\" allowfullscreen></iframe></div>"
      ],
      "text/plain": [
       "<IPython.core.display.HTML object>"
      ]
     },
     "metadata": {},
     "output_type": "display_data"
    },
    {
     "data": {
      "text/plain": []
     },
     "execution_count": 6,
     "metadata": {},
     "output_type": "execute_result"
    }
   ],
   "source": [
    "import gradio as gr\n",
    "\n",
    "def greet(name, is_morning, temperature):\n",
    "    salutation = \"Good morning\" if is_morning else \"Good evening\"\n",
    "    greeting = f\"{salutation} {name}. It is {temperature} degrees today\"\n",
    "    celsius = (temperature - 32) * 5 / 9\n",
    "    return greeting, round(celsius, 2)\n",
    "\n",
    "demo = gr.Interface(\n",
    "    fn=greet,\n",
    "    inputs=[\"text\", \"checkbox\", gr.Slider(0, 100)],\n",
    "    outputs=[\"text\", \"number\"],\n",
    ")\n",
    "demo.launch()"
   ]
  },
  {
   "cell_type": "code",
   "execution_count": 9,
   "metadata": {},
   "outputs": [
    {
     "name": "stdout",
     "output_type": "stream",
     "text": [
      "Running on local URL:  http://127.0.0.1:7865\n",
      "Running on public URL: https://094c518670f00318f0.gradio.live\n",
      "\n",
      "This share link expires in 72 hours. For free permanent hosting and GPU upgrades, run `gradio deploy` from Terminal to deploy to Spaces (https://huggingface.co/spaces)\n"
     ]
    },
    {
     "data": {
      "text/html": [
       "<div><iframe src=\"https://094c518670f00318f0.gradio.live\" width=\"100%\" height=\"500\" allow=\"autoplay; camera; microphone; clipboard-read; clipboard-write;\" frameborder=\"0\" allowfullscreen></iframe></div>"
      ],
      "text/plain": [
       "<IPython.core.display.HTML object>"
      ]
     },
     "metadata": {},
     "output_type": "display_data"
    },
    {
     "data": {
      "text/plain": []
     },
     "execution_count": 9,
     "metadata": {},
     "output_type": "execute_result"
    },
    {
     "name": "stderr",
     "output_type": "stream",
     "text": [
      "Traceback (most recent call last):\n",
      "  File \"c:\\Users\\guane\\miniconda3\\envs\\AEChackthon\\Lib\\site-packages\\gradio\\queueing.py\", line 427, in call_prediction\n",
      "    output = await route_utils.call_process_api(\n",
      "             ^^^^^^^^^^^^^^^^^^^^^^^^^^^^^^^^^^^\n",
      "  File \"c:\\Users\\guane\\miniconda3\\envs\\AEChackthon\\Lib\\site-packages\\gradio\\route_utils.py\", line 232, in call_process_api\n",
      "    output = await app.get_blocks().process_api(\n",
      "             ^^^^^^^^^^^^^^^^^^^^^^^^^^^^^^^^^^^\n",
      "  File \"c:\\Users\\guane\\miniconda3\\envs\\AEChackthon\\Lib\\site-packages\\gradio\\blocks.py\", line 1484, in process_api\n",
      "    result = await self.call_function(\n",
      "             ^^^^^^^^^^^^^^^^^^^^^^^^^\n",
      "  File \"c:\\Users\\guane\\miniconda3\\envs\\AEChackthon\\Lib\\site-packages\\gradio\\blocks.py\", line 1106, in call_function\n",
      "    prediction = await anyio.to_thread.run_sync(\n",
      "                 ^^^^^^^^^^^^^^^^^^^^^^^^^^^^^^^\n",
      "  File \"c:\\Users\\guane\\miniconda3\\envs\\AEChackthon\\Lib\\site-packages\\anyio\\to_thread.py\", line 33, in run_sync\n",
      "    return await get_asynclib().run_sync_in_worker_thread(\n",
      "           ^^^^^^^^^^^^^^^^^^^^^^^^^^^^^^^^^^^^^^^^^^^^^^^\n",
      "  File \"c:\\Users\\guane\\miniconda3\\envs\\AEChackthon\\Lib\\site-packages\\anyio\\_backends\\_asyncio.py\", line 877, in run_sync_in_worker_thread\n",
      "    return await future\n",
      "           ^^^^^^^^^^^^\n",
      "  File \"c:\\Users\\guane\\miniconda3\\envs\\AEChackthon\\Lib\\site-packages\\anyio\\_backends\\_asyncio.py\", line 807, in run\n",
      "    result = context.run(func, *args)\n",
      "             ^^^^^^^^^^^^^^^^^^^^^^^^\n",
      "  File \"c:\\Users\\guane\\miniconda3\\envs\\AEChackthon\\Lib\\site-packages\\gradio\\utils.py\", line 665, in wrapper\n",
      "    response = f(*args, **kwargs)\n",
      "               ^^^^^^^^^^^^^^^^^^\n",
      "  File \"C:\\Users\\guane\\AppData\\Local\\Temp\\ipykernel_16308\\1124093839.py\", line 10, in sepia\n",
      "    sepia_img = input_img.dot(sepia_filter.T)\n",
      "                ^^^^^^^^^^^^^\n",
      "AttributeError: 'NoneType' object has no attribute 'dot'\n",
      "Traceback (most recent call last):\n",
      "  File \"c:\\Users\\guane\\miniconda3\\envs\\AEChackthon\\Lib\\site-packages\\gradio\\queueing.py\", line 427, in call_prediction\n",
      "    output = await route_utils.call_process_api(\n",
      "             ^^^^^^^^^^^^^^^^^^^^^^^^^^^^^^^^^^^\n",
      "  File \"c:\\Users\\guane\\miniconda3\\envs\\AEChackthon\\Lib\\site-packages\\gradio\\route_utils.py\", line 232, in call_process_api\n",
      "    output = await app.get_blocks().process_api(\n",
      "             ^^^^^^^^^^^^^^^^^^^^^^^^^^^^^^^^^^^\n",
      "  File \"c:\\Users\\guane\\miniconda3\\envs\\AEChackthon\\Lib\\site-packages\\gradio\\blocks.py\", line 1484, in process_api\n",
      "    result = await self.call_function(\n",
      "             ^^^^^^^^^^^^^^^^^^^^^^^^^\n",
      "  File \"c:\\Users\\guane\\miniconda3\\envs\\AEChackthon\\Lib\\site-packages\\gradio\\blocks.py\", line 1106, in call_function\n",
      "    prediction = await anyio.to_thread.run_sync(\n",
      "                 ^^^^^^^^^^^^^^^^^^^^^^^^^^^^^^^\n",
      "  File \"c:\\Users\\guane\\miniconda3\\envs\\AEChackthon\\Lib\\site-packages\\anyio\\to_thread.py\", line 33, in run_sync\n",
      "    return await get_asynclib().run_sync_in_worker_thread(\n",
      "           ^^^^^^^^^^^^^^^^^^^^^^^^^^^^^^^^^^^^^^^^^^^^^^^\n",
      "  File \"c:\\Users\\guane\\miniconda3\\envs\\AEChackthon\\Lib\\site-packages\\anyio\\_backends\\_asyncio.py\", line 877, in run_sync_in_worker_thread\n",
      "    return await future\n",
      "           ^^^^^^^^^^^^\n",
      "  File \"c:\\Users\\guane\\miniconda3\\envs\\AEChackthon\\Lib\\site-packages\\anyio\\_backends\\_asyncio.py\", line 807, in run\n",
      "    result = context.run(func, *args)\n",
      "             ^^^^^^^^^^^^^^^^^^^^^^^^\n",
      "  File \"c:\\Users\\guane\\miniconda3\\envs\\AEChackthon\\Lib\\site-packages\\gradio\\utils.py\", line 665, in wrapper\n",
      "    response = f(*args, **kwargs)\n",
      "               ^^^^^^^^^^^^^^^^^^\n",
      "  File \"C:\\Users\\guane\\AppData\\Local\\Temp\\ipykernel_16308\\1124093839.py\", line 10, in sepia\n",
      "    sepia_img = input_img.dot(sepia_filter.T)\n",
      "                ^^^^^^^^^^^^^\n",
      "AttributeError: 'NoneType' object has no attribute 'dot'\n",
      "\n",
      "The above exception was the direct cause of the following exception:\n",
      "\n",
      "Traceback (most recent call last):\n",
      "  File \"c:\\Users\\guane\\miniconda3\\envs\\AEChackthon\\Lib\\site-packages\\gradio\\queueing.py\", line 472, in process_events\n",
      "    response = await self.call_prediction(awake_events, batch)\n",
      "               ^^^^^^^^^^^^^^^^^^^^^^^^^^^^^^^^^^^^^^^^^^^^^^^\n",
      "  File \"c:\\Users\\guane\\miniconda3\\envs\\AEChackthon\\Lib\\site-packages\\gradio\\queueing.py\", line 436, in call_prediction\n",
      "    raise Exception(str(error) if show_error else None) from error\n",
      "Exception: None\n"
     ]
    }
   ],
   "source": [
    "import numpy as np\n",
    "import gradio as gr\n",
    "\n",
    "def sepia(input_img):\n",
    "    sepia_filter = np.array([\n",
    "        [0.393, 0.769, 0.189], \n",
    "        [0.349, 0.686, 0.168], \n",
    "        [0.272, 0.534, 0.131]\n",
    "    ])\n",
    "    sepia_img = input_img.dot(sepia_filter.T)\n",
    "    sepia_img /= sepia_img.max()\n",
    "    return sepia_img\n",
    "\n",
    "demo = gr.Interface(sepia, gr.Image(), \"image\")\n",
    "demo.launch(share=True)"
   ]
  },
  {
   "cell_type": "code",
   "execution_count": null,
   "metadata": {},
   "outputs": [],
   "source": [
    "\"sketchpad\""
   ]
  },
  {
   "cell_type": "code",
   "execution_count": 7,
   "metadata": {},
   "outputs": [
    {
     "name": "stdout",
     "output_type": "stream",
     "text": [
      "Running on local URL:  http://127.0.0.1:7860\n",
      "Running on public URL: https://5c66b15c13a2510fd9.gradio.live\n",
      "\n",
      "This share link expires in 72 hours. For free permanent hosting and GPU upgrades, run `gradio deploy` from Terminal to deploy to Spaces (https://huggingface.co/spaces)\n"
     ]
    },
    {
     "data": {
      "text/html": [
       "<div><iframe src=\"https://5c66b15c13a2510fd9.gradio.live\" width=\"100%\" height=\"500\" allow=\"autoplay; camera; microphone; clipboard-read; clipboard-write;\" frameborder=\"0\" allowfullscreen></iframe></div>"
      ],
      "text/plain": [
       "<IPython.core.display.HTML object>"
      ]
     },
     "metadata": {},
     "output_type": "display_data"
    },
    {
     "data": {
      "text/plain": []
     },
     "execution_count": 7,
     "metadata": {},
     "output_type": "execute_result"
    }
   ],
   "source": [
    "import numpy as np\n",
    "import gradio as gr\n",
    "\n",
    "def sepia(input_img):\n",
    "    sepia_filter = np.array([\n",
    "        [0.393, 0.769, 0.189], \n",
    "        [0.349, 0.686, 0.168], \n",
    "        [0.272, 0.534, 0.131]\n",
    "    ])\n",
    "    sepia_img = input_img.dot(sepia_filter.T)\n",
    "    sepia_img /= sepia_img.max()\n",
    "    return sepia_img\n",
    "\n",
    "demo = gr.Interface(sepia, gr.Image(), \"image\")\n",
    "demo.launch(share=True)"
   ]
  },
  {
   "cell_type": "code",
   "execution_count": 2,
   "metadata": {},
   "outputs": [
    {
     "name": "stdout",
     "output_type": "stream",
     "text": [
      "Running on local URL:  http://127.0.0.1:7861\n",
      "Running on public URL: https://12499227839467e1ad.gradio.live\n",
      "\n",
      "This share link expires in 72 hours. For free permanent hosting and GPU upgrades, run `gradio deploy` from Terminal to deploy to Spaces (https://huggingface.co/spaces)\n"
     ]
    },
    {
     "data": {
      "text/html": [
       "<div><iframe src=\"https://12499227839467e1ad.gradio.live\" width=\"100%\" height=\"500\" allow=\"autoplay; camera; microphone; clipboard-read; clipboard-write;\" frameborder=\"0\" allowfullscreen></iframe></div>"
      ],
      "text/plain": [
       "<IPython.core.display.HTML object>"
      ]
     },
     "metadata": {},
     "output_type": "display_data"
    },
    {
     "data": {
      "text/plain": []
     },
     "execution_count": 2,
     "metadata": {},
     "output_type": "execute_result"
    },
    {
     "name": "stderr",
     "output_type": "stream",
     "text": [
      "Traceback (most recent call last):\n",
      "  File \"c:\\Users\\guane\\miniconda3\\envs\\AEChackthon\\Lib\\site-packages\\gradio\\queueing.py\", line 427, in call_prediction\n",
      "    output = await route_utils.call_process_api(\n",
      "             ^^^^^^^^^^^^^^^^^^^^^^^^^^^^^^^^^^^\n",
      "  File \"c:\\Users\\guane\\miniconda3\\envs\\AEChackthon\\Lib\\site-packages\\gradio\\route_utils.py\", line 232, in call_process_api\n",
      "    output = await app.get_blocks().process_api(\n",
      "             ^^^^^^^^^^^^^^^^^^^^^^^^^^^^^^^^^^^\n",
      "  File \"c:\\Users\\guane\\miniconda3\\envs\\AEChackthon\\Lib\\site-packages\\gradio\\blocks.py\", line 1484, in process_api\n",
      "    result = await self.call_function(\n",
      "             ^^^^^^^^^^^^^^^^^^^^^^^^^\n",
      "  File \"c:\\Users\\guane\\miniconda3\\envs\\AEChackthon\\Lib\\site-packages\\gradio\\blocks.py\", line 1106, in call_function\n",
      "    prediction = await anyio.to_thread.run_sync(\n",
      "                 ^^^^^^^^^^^^^^^^^^^^^^^^^^^^^^^\n",
      "  File \"c:\\Users\\guane\\miniconda3\\envs\\AEChackthon\\Lib\\site-packages\\anyio\\to_thread.py\", line 33, in run_sync\n",
      "    return await get_asynclib().run_sync_in_worker_thread(\n",
      "           ^^^^^^^^^^^^^^^^^^^^^^^^^^^^^^^^^^^^^^^^^^^^^^^\n",
      "  File \"c:\\Users\\guane\\miniconda3\\envs\\AEChackthon\\Lib\\site-packages\\anyio\\_backends\\_asyncio.py\", line 877, in run_sync_in_worker_thread\n",
      "    return await future\n",
      "           ^^^^^^^^^^^^\n",
      "  File \"c:\\Users\\guane\\miniconda3\\envs\\AEChackthon\\Lib\\site-packages\\anyio\\_backends\\_asyncio.py\", line 807, in run\n",
      "    result = context.run(func, *args)\n",
      "             ^^^^^^^^^^^^^^^^^^^^^^^^\n",
      "  File \"c:\\Users\\guane\\miniconda3\\envs\\AEChackthon\\Lib\\site-packages\\gradio\\utils.py\", line 665, in wrapper\n",
      "    response = f(*args, **kwargs)\n",
      "               ^^^^^^^^^^^^^^^^^^\n",
      "  File \"C:\\Users\\guane\\AppData\\Local\\Temp\\ipykernel_11244\\69622248.py\", line 14, in sepia\n",
      "    sepia_img = input_img.dot(sepia_filter.T)\n",
      "                ^^^^^^^^^^^^^\n",
      "AttributeError: 'NoneType' object has no attribute 'dot'\n",
      "Traceback (most recent call last):\n",
      "  File \"c:\\Users\\guane\\miniconda3\\envs\\AEChackthon\\Lib\\site-packages\\gradio\\queueing.py\", line 427, in call_prediction\n",
      "    output = await route_utils.call_process_api(\n",
      "             ^^^^^^^^^^^^^^^^^^^^^^^^^^^^^^^^^^^\n",
      "  File \"c:\\Users\\guane\\miniconda3\\envs\\AEChackthon\\Lib\\site-packages\\gradio\\route_utils.py\", line 232, in call_process_api\n",
      "    output = await app.get_blocks().process_api(\n",
      "             ^^^^^^^^^^^^^^^^^^^^^^^^^^^^^^^^^^^\n",
      "  File \"c:\\Users\\guane\\miniconda3\\envs\\AEChackthon\\Lib\\site-packages\\gradio\\blocks.py\", line 1484, in process_api\n",
      "    result = await self.call_function(\n",
      "             ^^^^^^^^^^^^^^^^^^^^^^^^^\n",
      "  File \"c:\\Users\\guane\\miniconda3\\envs\\AEChackthon\\Lib\\site-packages\\gradio\\blocks.py\", line 1106, in call_function\n",
      "    prediction = await anyio.to_thread.run_sync(\n",
      "                 ^^^^^^^^^^^^^^^^^^^^^^^^^^^^^^^\n",
      "  File \"c:\\Users\\guane\\miniconda3\\envs\\AEChackthon\\Lib\\site-packages\\anyio\\to_thread.py\", line 33, in run_sync\n",
      "    return await get_asynclib().run_sync_in_worker_thread(\n",
      "           ^^^^^^^^^^^^^^^^^^^^^^^^^^^^^^^^^^^^^^^^^^^^^^^\n",
      "  File \"c:\\Users\\guane\\miniconda3\\envs\\AEChackthon\\Lib\\site-packages\\anyio\\_backends\\_asyncio.py\", line 877, in run_sync_in_worker_thread\n",
      "    return await future\n",
      "           ^^^^^^^^^^^^\n",
      "  File \"c:\\Users\\guane\\miniconda3\\envs\\AEChackthon\\Lib\\site-packages\\anyio\\_backends\\_asyncio.py\", line 807, in run\n",
      "    result = context.run(func, *args)\n",
      "             ^^^^^^^^^^^^^^^^^^^^^^^^\n",
      "  File \"c:\\Users\\guane\\miniconda3\\envs\\AEChackthon\\Lib\\site-packages\\gradio\\utils.py\", line 665, in wrapper\n",
      "    response = f(*args, **kwargs)\n",
      "               ^^^^^^^^^^^^^^^^^^\n",
      "  File \"C:\\Users\\guane\\AppData\\Local\\Temp\\ipykernel_11244\\69622248.py\", line 14, in sepia\n",
      "    sepia_img = input_img.dot(sepia_filter.T)\n",
      "                ^^^^^^^^^^^^^\n",
      "AttributeError: 'NoneType' object has no attribute 'dot'\n",
      "\n",
      "The above exception was the direct cause of the following exception:\n",
      "\n",
      "Traceback (most recent call last):\n",
      "  File \"c:\\Users\\guane\\miniconda3\\envs\\AEChackthon\\Lib\\site-packages\\gradio\\queueing.py\", line 472, in process_events\n",
      "    response = await self.call_prediction(awake_events, batch)\n",
      "               ^^^^^^^^^^^^^^^^^^^^^^^^^^^^^^^^^^^^^^^^^^^^^^^\n",
      "  File \"c:\\Users\\guane\\miniconda3\\envs\\AEChackthon\\Lib\\site-packages\\gradio\\queueing.py\", line 436, in call_prediction\n",
      "    raise Exception(str(error) if show_error else None) from error\n",
      "Exception: None\n",
      "Traceback (most recent call last):\n",
      "  File \"c:\\Users\\guane\\miniconda3\\envs\\AEChackthon\\Lib\\site-packages\\gradio\\queueing.py\", line 427, in call_prediction\n",
      "    output = await route_utils.call_process_api(\n",
      "             ^^^^^^^^^^^^^^^^^^^^^^^^^^^^^^^^^^^\n",
      "  File \"c:\\Users\\guane\\miniconda3\\envs\\AEChackthon\\Lib\\site-packages\\gradio\\route_utils.py\", line 232, in call_process_api\n",
      "    output = await app.get_blocks().process_api(\n",
      "             ^^^^^^^^^^^^^^^^^^^^^^^^^^^^^^^^^^^\n",
      "  File \"c:\\Users\\guane\\miniconda3\\envs\\AEChackthon\\Lib\\site-packages\\gradio\\blocks.py\", line 1484, in process_api\n",
      "    result = await self.call_function(\n",
      "             ^^^^^^^^^^^^^^^^^^^^^^^^^\n",
      "  File \"c:\\Users\\guane\\miniconda3\\envs\\AEChackthon\\Lib\\site-packages\\gradio\\blocks.py\", line 1106, in call_function\n",
      "    prediction = await anyio.to_thread.run_sync(\n",
      "                 ^^^^^^^^^^^^^^^^^^^^^^^^^^^^^^^\n",
      "  File \"c:\\Users\\guane\\miniconda3\\envs\\AEChackthon\\Lib\\site-packages\\anyio\\to_thread.py\", line 33, in run_sync\n",
      "    return await get_asynclib().run_sync_in_worker_thread(\n",
      "           ^^^^^^^^^^^^^^^^^^^^^^^^^^^^^^^^^^^^^^^^^^^^^^^\n",
      "  File \"c:\\Users\\guane\\miniconda3\\envs\\AEChackthon\\Lib\\site-packages\\anyio\\_backends\\_asyncio.py\", line 877, in run_sync_in_worker_thread\n",
      "    return await future\n",
      "           ^^^^^^^^^^^^\n",
      "  File \"c:\\Users\\guane\\miniconda3\\envs\\AEChackthon\\Lib\\site-packages\\anyio\\_backends\\_asyncio.py\", line 807, in run\n",
      "    result = context.run(func, *args)\n",
      "             ^^^^^^^^^^^^^^^^^^^^^^^^\n",
      "  File \"c:\\Users\\guane\\miniconda3\\envs\\AEChackthon\\Lib\\site-packages\\gradio\\utils.py\", line 665, in wrapper\n",
      "    response = f(*args, **kwargs)\n",
      "               ^^^^^^^^^^^^^^^^^^\n",
      "  File \"C:\\Users\\guane\\AppData\\Local\\Temp\\ipykernel_11244\\69622248.py\", line 14, in sepia\n",
      "    sepia_img = input_img.dot(sepia_filter.T)\n",
      "                ^^^^^^^^^^^^^\n",
      "AttributeError: 'NoneType' object has no attribute 'dot'\n",
      "Traceback (most recent call last):\n",
      "  File \"c:\\Users\\guane\\miniconda3\\envs\\AEChackthon\\Lib\\site-packages\\gradio\\queueing.py\", line 427, in call_prediction\n",
      "    output = await route_utils.call_process_api(\n",
      "             ^^^^^^^^^^^^^^^^^^^^^^^^^^^^^^^^^^^\n",
      "  File \"c:\\Users\\guane\\miniconda3\\envs\\AEChackthon\\Lib\\site-packages\\gradio\\route_utils.py\", line 232, in call_process_api\n",
      "    output = await app.get_blocks().process_api(\n",
      "             ^^^^^^^^^^^^^^^^^^^^^^^^^^^^^^^^^^^\n",
      "  File \"c:\\Users\\guane\\miniconda3\\envs\\AEChackthon\\Lib\\site-packages\\gradio\\blocks.py\", line 1484, in process_api\n",
      "    result = await self.call_function(\n",
      "             ^^^^^^^^^^^^^^^^^^^^^^^^^\n",
      "  File \"c:\\Users\\guane\\miniconda3\\envs\\AEChackthon\\Lib\\site-packages\\gradio\\blocks.py\", line 1106, in call_function\n",
      "    prediction = await anyio.to_thread.run_sync(\n",
      "                 ^^^^^^^^^^^^^^^^^^^^^^^^^^^^^^^\n",
      "  File \"c:\\Users\\guane\\miniconda3\\envs\\AEChackthon\\Lib\\site-packages\\anyio\\to_thread.py\", line 33, in run_sync\n",
      "    return await get_asynclib().run_sync_in_worker_thread(\n",
      "           ^^^^^^^^^^^^^^^^^^^^^^^^^^^^^^^^^^^^^^^^^^^^^^^\n",
      "  File \"c:\\Users\\guane\\miniconda3\\envs\\AEChackthon\\Lib\\site-packages\\anyio\\_backends\\_asyncio.py\", line 877, in run_sync_in_worker_thread\n",
      "    return await future\n",
      "           ^^^^^^^^^^^^\n",
      "  File \"c:\\Users\\guane\\miniconda3\\envs\\AEChackthon\\Lib\\site-packages\\anyio\\_backends\\_asyncio.py\", line 807, in run\n",
      "    result = context.run(func, *args)\n",
      "             ^^^^^^^^^^^^^^^^^^^^^^^^\n",
      "  File \"c:\\Users\\guane\\miniconda3\\envs\\AEChackthon\\Lib\\site-packages\\gradio\\utils.py\", line 665, in wrapper\n",
      "    response = f(*args, **kwargs)\n",
      "               ^^^^^^^^^^^^^^^^^^\n",
      "  File \"C:\\Users\\guane\\AppData\\Local\\Temp\\ipykernel_11244\\69622248.py\", line 14, in sepia\n",
      "    sepia_img = input_img.dot(sepia_filter.T)\n",
      "                ^^^^^^^^^^^^^\n",
      "AttributeError: 'NoneType' object has no attribute 'dot'\n",
      "\n",
      "The above exception was the direct cause of the following exception:\n",
      "\n",
      "Traceback (most recent call last):\n",
      "  File \"c:\\Users\\guane\\miniconda3\\envs\\AEChackthon\\Lib\\site-packages\\gradio\\queueing.py\", line 472, in process_events\n",
      "    response = await self.call_prediction(awake_events, batch)\n",
      "               ^^^^^^^^^^^^^^^^^^^^^^^^^^^^^^^^^^^^^^^^^^^^^^^\n",
      "  File \"c:\\Users\\guane\\miniconda3\\envs\\AEChackthon\\Lib\\site-packages\\gradio\\queueing.py\", line 436, in call_prediction\n",
      "    raise Exception(str(error) if show_error else None) from error\n",
      "Exception: None\n"
     ]
    }
   ],
   "source": [
    "import gradio as gr\n",
    "import requests\n",
    "from PIL import Image\n",
    "import numpy as np\n",
    "import io\n",
    "import base64\n",
    "\n",
    "def sepia(input_img):\n",
    "    sepia_filter = np.array([\n",
    "        [0.393, 0.769, 0.189], \n",
    "        [0.349, 0.686, 0.168], \n",
    "        [0.272, 0.534, 0.131]\n",
    "    ])\n",
    "    sepia_img = input_img.dot(sepia_filter.T)\n",
    "    sepia_img /= sepia_img.max()\n",
    "    sepia_img = np.clip(sepia_img, 0, 255).astype(np.uint8)\n",
    "\n",
    "    pil_img = Image.fromarray(sepia_img)\n",
    "    buffered = io.BytesIO()\n",
    "    pil_img.save(buffered, format=\"JPEG\")\n",
    "    img_str = base64.b64encode(buffered.getvalue()).decode(\"utf-8\")\n",
    "\n",
    "    # send data\n",
    "    url = \"http://aecademyhubserverserver20231104151838.azurewebsites.net/api/object/PostObject\"\n",
    "\n",
    "    data = {\n",
    "        \"guid\": \"3fa85f64-5717-4562-b3fc-2c963f66afa6\",\n",
    "        \"name\": \"string\",\n",
    "        \"type\": \"string\",\n",
    "        \"description\": \"string\",\n",
    "        \"url\": \"string\",\n",
    "        \"previewUrl\": \"string\",\n",
    "        \"downloadNumber\": 0,\n",
    "        \"permissionLevel\": \"string\",\n",
    "        \"authorGuid\": \"3fa85f64-5717-4562-b3fc-2c963f66afa6\",\n",
    "        \"reviews\": \"string\"\n",
    "    }\n",
    "\n",
    "    # response\n",
    "    response = requests.post(url, json=data)\n",
    "\n",
    "demo = gr.Interface(fn=sepia, inputs=gr.Image(), outputs=None)\n",
    "\n",
    "demo.launch(share=True)\n"
   ]
  },
  {
   "cell_type": "code",
   "execution_count": 5,
   "metadata": {},
   "outputs": [
    {
     "name": "stdout",
     "output_type": "stream",
     "text": [
      "request successfully！\n",
      "<!DOCTYPE html>\n",
      "<html lang=\"en\">\n",
      "\n",
      "<head>\n",
      "    <meta charset=\"utf-8\" />\n",
      "    <meta name=\"viewport\" content=\"width=device-width, initial-scale=1.0, maximum-scale=1.0, user-scalable=no\" />\n",
      "    <title>AECademyHubServer</title>\n",
      "    <base href=\"/\" />\n",
      "    <link href=\"css/bootstrap/bootstrap.min.css\" rel=\"stylesheet\" />\n",
      "    <link href=\"css/app.css\" rel=\"stylesheet\" />\n",
      "    <link href=\"AECademyHubServer.Client.styles.css\" rel=\"stylesheet\" />\n",
      "</head>\n",
      "\n",
      "<body>\n",
      "    <div id=\"app\">Loading...</div>\n",
      "\n",
      "    <div id=\"blazor-error-ui\">\n",
      "        An unhandled error has occurred.\n",
      "        <a href=\"\" class=\"reload\">Reload</a>\n",
      "        <a class=\"dismiss\">ð</a>\n",
      "    </div>\n",
      "    <script src=\"_framework/blazor.webassembly.js\"></script>\n",
      "</body>\n",
      "\n",
      "</html>\n",
      "\n"
     ]
    }
   ],
   "source": [
    "import requests\n",
    "\n",
    "\n",
    "data = {\n",
    "    \"guid\": \"3fa85f64-5717-4562-b3fc-2c963f66afa6\",\n",
    "    \"name\": \"string\",\n",
    "    \"type\": \"string\",\n",
    "    \"description\": \"string\",\n",
    "    \"url\": \"string\",\n",
    "    \"previewUrl\": \"string\",\n",
    "    \"downloadNumber\": 0,\n",
    "    \"permissionLevel\": \"string\",\n",
    "    \"authorGuid\": \"3fa85f64-5717-4562-b3fc-2c963f66afa6\",\n",
    "    \"reviews\": \"string\"\n",
    "}\n",
    "\n",
    "url = \"http://aecademyhubserverserver20231104151838.azurewebsites.net/api/object/PostObject\"\n",
    "\n",
    "\n",
    "response = requests.post(url, json=data)\n",
    "\n",
    "\n",
    "if response.status_code == 200:\n",
    "    print(\"request successfully！\")\n",
    "elif response.status_code == 201:\n",
    "    print(\"Resource create successfully！\")\n",
    "else:\n",
    "    print(f\"Failed:Code：{response.status_code}\")\n",
    "\n",
    "\n",
    "print(response.text)\n"
   ]
  }
 ],
 "metadata": {
  "kernelspec": {
   "display_name": "AEChackthon",
   "language": "python",
   "name": "python3"
  },
  "language_info": {
   "codemirror_mode": {
    "name": "ipython",
    "version": 3
   },
   "file_extension": ".py",
   "mimetype": "text/x-python",
   "name": "python",
   "nbconvert_exporter": "python",
   "pygments_lexer": "ipython3",
   "version": "3.12.0"
  }
 },
 "nbformat": 4,
 "nbformat_minor": 2
}
